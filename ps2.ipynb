{
 "cells": [
  {
   "cell_type": "markdown",
   "id": "aab52669",
   "metadata": {},
   "source": [
    "# ⚠️ Dataset Not Found\n",
    "Place `merged_dataset_532_checked.csv` in the same folder as this notebook (`ps2 front`).\n",
    "Or update the path in the code cell to the correct location of your CSV file."
   ]
  },
  {
   "cell_type": "code",
   "execution_count": 2,
   "id": "34f9c720",
   "metadata": {},
   "outputs": [],
   "source": [
    "import pandas as pd\n",
    "import numpy as np\n",
    "from sklearn.model_selection import train_test_split\n",
    "from sklearn.ensemble import RandomForestRegressor\n",
    "from sklearn.preprocessing import OneHotEncoder\n",
    "from sklearn.impute import SimpleImputer\n",
    "from sklearn.metrics import mean_absolute_error, r2_score\n",
    "from sklearn.pipeline import Pipeline\n",
    "from sklearn.compose import ColumnTransformer\n",
    "import pickle"
   ]
  },
  {
   "cell_type": "code",
   "execution_count": null,
   "id": "b249de38",
   "metadata": {},
   "outputs": [],
   "source": [
    "df = pd.read_csv(\"merged_dataset_532_checked.csv\")\n"
   ]
  },
  {
   "cell_type": "code",
   "execution_count": 6,
   "id": "5104e841",
   "metadata": {},
   "outputs": [],
   "source": [
    "# Drop rows with missing target\n",
    "df = df.dropna(subset=['Total Insurance'])"
   ]
  },
  {
   "cell_type": "code",
   "execution_count": 7,
   "id": "becd1ba0",
   "metadata": {},
   "outputs": [],
   "source": [
    "# Clean columns\n",
    "df['Net monthly income'] = pd.to_numeric(df['Net monthly income'], errors='coerce')\n",
    "df['Assets'] = pd.to_numeric(df['Assets'], errors='coerce')"
   ]
  },
  {
   "cell_type": "code",
   "execution_count": 8,
   "id": "ed5cb106",
   "metadata": {},
   "outputs": [],
   "source": [
    "# Handle missing income columns\n",
    "for col in ['Gross monthly income', 'Net monthly income']:\n",
    "    df[col].fillna(df[col].median(), inplace=True)"
   ]
  },
  {
   "cell_type": "code",
   "execution_count": 9,
   "id": "f3f8edcd",
   "metadata": {},
   "outputs": [],
   "source": [
    "# Select features\n",
    "features = [\n",
    "    'Age', 'Occupation', 'Assets', 'Investments', 'Savings', 'Debt',\n",
    "    'Gross monthly income', 'Net monthly income', 'Rent/Mortgage', 'Utilities',\n",
    "    'Emergency Fund', 'Dining out', 'Groceries', 'Miscellaneous', '% Expenses', '% Savings'\n",
    "]\n",
    "target = 'Total Insurance'"
   ]
  },
  {
   "cell_type": "code",
   "execution_count": 10,
   "id": "0c0da416",
   "metadata": {},
   "outputs": [],
   "source": [
    "# Drop rows with any missing features\n",
    "df = df.dropna(subset=features)"
   ]
  },
  {
   "cell_type": "code",
   "execution_count": 11,
   "id": "3ca4d7ba",
   "metadata": {},
   "outputs": [],
   "source": [
    "# Split X and y\n",
    "X = df[features]\n",
    "y = df[target]"
   ]
  },
  {
   "cell_type": "code",
   "execution_count": 12,
   "id": "aa579e8e",
   "metadata": {},
   "outputs": [],
   "source": [
    "# Column types\n",
    "num_cols = X.select_dtypes(include=['int64', 'float64']).columns.tolist()\n",
    "cat_cols = X.select_dtypes(include=['object']).columns.tolist()\n"
   ]
  },
  {
   "cell_type": "code",
   "execution_count": 13,
   "id": "0c74c06f",
   "metadata": {},
   "outputs": [],
   "source": [
    "# Preprocessing\n",
    "numeric_pipeline = Pipeline([\n",
    "    ('imputer', SimpleImputer(strategy='median'))\n",
    "])\n",
    "\n",
    "categorical_pipeline = Pipeline([\n",
    "    ('encoder', OneHotEncoder(handle_unknown='ignore'))\n",
    "])\n",
    "\n",
    "preprocessor = ColumnTransformer([\n",
    "    ('num', numeric_pipeline, num_cols),\n",
    "    ('cat', categorical_pipeline, cat_cols)\n",
    "])\n"
   ]
  },
  {
   "cell_type": "code",
   "execution_count": 14,
   "id": "bc3a82ea",
   "metadata": {},
   "outputs": [],
   "source": [
    "# Model pipeline\n",
    "model = Pipeline([\n",
    "    ('preprocessing', preprocessor),\n",
    "    ('regressor', RandomForestRegressor(n_estimators=100, random_state=42))\n",
    "])"
   ]
  },
  {
   "cell_type": "code",
   "execution_count": 15,
   "id": "1266f390",
   "metadata": {},
   "outputs": [],
   "source": [
    "# Split data\n",
    "X_train, X_test, y_train, y_test = train_test_split(X, y, test_size=0.2, random_state=42)"
   ]
  },
  {
   "cell_type": "code",
   "execution_count": 16,
   "id": "e16ad3d0",
   "metadata": {},
   "outputs": [
    {
     "data": {
      "text/html": [
       "<style>#sk-container-id-1 {color: black;}#sk-container-id-1 pre{padding: 0;}#sk-container-id-1 div.sk-toggleable {background-color: white;}#sk-container-id-1 label.sk-toggleable__label {cursor: pointer;display: block;width: 100%;margin-bottom: 0;padding: 0.3em;box-sizing: border-box;text-align: center;}#sk-container-id-1 label.sk-toggleable__label-arrow:before {content: \"▸\";float: left;margin-right: 0.25em;color: #696969;}#sk-container-id-1 label.sk-toggleable__label-arrow:hover:before {color: black;}#sk-container-id-1 div.sk-estimator:hover label.sk-toggleable__label-arrow:before {color: black;}#sk-container-id-1 div.sk-toggleable__content {max-height: 0;max-width: 0;overflow: hidden;text-align: left;background-color: #f0f8ff;}#sk-container-id-1 div.sk-toggleable__content pre {margin: 0.2em;color: black;border-radius: 0.25em;background-color: #f0f8ff;}#sk-container-id-1 input.sk-toggleable__control:checked~div.sk-toggleable__content {max-height: 200px;max-width: 100%;overflow: auto;}#sk-container-id-1 input.sk-toggleable__control:checked~label.sk-toggleable__label-arrow:before {content: \"▾\";}#sk-container-id-1 div.sk-estimator input.sk-toggleable__control:checked~label.sk-toggleable__label {background-color: #d4ebff;}#sk-container-id-1 div.sk-label input.sk-toggleable__control:checked~label.sk-toggleable__label {background-color: #d4ebff;}#sk-container-id-1 input.sk-hidden--visually {border: 0;clip: rect(1px 1px 1px 1px);clip: rect(1px, 1px, 1px, 1px);height: 1px;margin: -1px;overflow: hidden;padding: 0;position: absolute;width: 1px;}#sk-container-id-1 div.sk-estimator {font-family: monospace;background-color: #f0f8ff;border: 1px dotted black;border-radius: 0.25em;box-sizing: border-box;margin-bottom: 0.5em;}#sk-container-id-1 div.sk-estimator:hover {background-color: #d4ebff;}#sk-container-id-1 div.sk-parallel-item::after {content: \"\";width: 100%;border-bottom: 1px solid gray;flex-grow: 1;}#sk-container-id-1 div.sk-label:hover label.sk-toggleable__label {background-color: #d4ebff;}#sk-container-id-1 div.sk-serial::before {content: \"\";position: absolute;border-left: 1px solid gray;box-sizing: border-box;top: 0;bottom: 0;left: 50%;z-index: 0;}#sk-container-id-1 div.sk-serial {display: flex;flex-direction: column;align-items: center;background-color: white;padding-right: 0.2em;padding-left: 0.2em;position: relative;}#sk-container-id-1 div.sk-item {position: relative;z-index: 1;}#sk-container-id-1 div.sk-parallel {display: flex;align-items: stretch;justify-content: center;background-color: white;position: relative;}#sk-container-id-1 div.sk-item::before, #sk-container-id-1 div.sk-parallel-item::before {content: \"\";position: absolute;border-left: 1px solid gray;box-sizing: border-box;top: 0;bottom: 0;left: 50%;z-index: -1;}#sk-container-id-1 div.sk-parallel-item {display: flex;flex-direction: column;z-index: 1;position: relative;background-color: white;}#sk-container-id-1 div.sk-parallel-item:first-child::after {align-self: flex-end;width: 50%;}#sk-container-id-1 div.sk-parallel-item:last-child::after {align-self: flex-start;width: 50%;}#sk-container-id-1 div.sk-parallel-item:only-child::after {width: 0;}#sk-container-id-1 div.sk-dashed-wrapped {border: 1px dashed gray;margin: 0 0.4em 0.5em 0.4em;box-sizing: border-box;padding-bottom: 0.4em;background-color: white;}#sk-container-id-1 div.sk-label label {font-family: monospace;font-weight: bold;display: inline-block;line-height: 1.2em;}#sk-container-id-1 div.sk-label-container {text-align: center;}#sk-container-id-1 div.sk-container {/* jupyter's `normalize.less` sets `[hidden] { display: none; }` but bootstrap.min.css set `[hidden] { display: none !important; }` so we also need the `!important` here to be able to override the default hidden behavior on the sphinx rendered scikit-learn.org. See: https://github.com/scikit-learn/scikit-learn/issues/21755 */display: inline-block !important;position: relative;}#sk-container-id-1 div.sk-text-repr-fallback {display: none;}</style><div id=\"sk-container-id-1\" class=\"sk-top-container\"><div class=\"sk-text-repr-fallback\"><pre>Pipeline(steps=[(&#x27;preprocessing&#x27;,\n",
       "                 ColumnTransformer(transformers=[(&#x27;num&#x27;,\n",
       "                                                  Pipeline(steps=[(&#x27;imputer&#x27;,\n",
       "                                                                   SimpleImputer(strategy=&#x27;median&#x27;))]),\n",
       "                                                  [&#x27;Age&#x27;, &#x27;Assets&#x27;,\n",
       "                                                   &#x27;Investments&#x27;, &#x27;Savings&#x27;,\n",
       "                                                   &#x27;Debt&#x27;,\n",
       "                                                   &#x27;Gross monthly income&#x27;,\n",
       "                                                   &#x27;Net monthly income&#x27;,\n",
       "                                                   &#x27;Rent/Mortgage&#x27;, &#x27;Utilities&#x27;,\n",
       "                                                   &#x27;Emergency Fund&#x27;,\n",
       "                                                   &#x27;Dining out&#x27;, &#x27;Groceries&#x27;,\n",
       "                                                   &#x27;Miscellaneous&#x27;,\n",
       "                                                   &#x27;% Expenses&#x27;, &#x27;% Savings&#x27;]),\n",
       "                                                 (&#x27;cat&#x27;,\n",
       "                                                  Pipeline(steps=[(&#x27;encoder&#x27;,\n",
       "                                                                   OneHotEncoder(handle_unknown=&#x27;ignore&#x27;))]),\n",
       "                                                  [&#x27;Occupation&#x27;])])),\n",
       "                (&#x27;regressor&#x27;, RandomForestRegressor(random_state=42))])</pre><b>In a Jupyter environment, please rerun this cell to show the HTML representation or trust the notebook. <br />On GitHub, the HTML representation is unable to render, please try loading this page with nbviewer.org.</b></div><div class=\"sk-container\" hidden><div class=\"sk-item sk-dashed-wrapped\"><div class=\"sk-label-container\"><div class=\"sk-label sk-toggleable\"><input class=\"sk-toggleable__control sk-hidden--visually\" id=\"sk-estimator-id-1\" type=\"checkbox\" ><label for=\"sk-estimator-id-1\" class=\"sk-toggleable__label sk-toggleable__label-arrow\">Pipeline</label><div class=\"sk-toggleable__content\"><pre>Pipeline(steps=[(&#x27;preprocessing&#x27;,\n",
       "                 ColumnTransformer(transformers=[(&#x27;num&#x27;,\n",
       "                                                  Pipeline(steps=[(&#x27;imputer&#x27;,\n",
       "                                                                   SimpleImputer(strategy=&#x27;median&#x27;))]),\n",
       "                                                  [&#x27;Age&#x27;, &#x27;Assets&#x27;,\n",
       "                                                   &#x27;Investments&#x27;, &#x27;Savings&#x27;,\n",
       "                                                   &#x27;Debt&#x27;,\n",
       "                                                   &#x27;Gross monthly income&#x27;,\n",
       "                                                   &#x27;Net monthly income&#x27;,\n",
       "                                                   &#x27;Rent/Mortgage&#x27;, &#x27;Utilities&#x27;,\n",
       "                                                   &#x27;Emergency Fund&#x27;,\n",
       "                                                   &#x27;Dining out&#x27;, &#x27;Groceries&#x27;,\n",
       "                                                   &#x27;Miscellaneous&#x27;,\n",
       "                                                   &#x27;% Expenses&#x27;, &#x27;% Savings&#x27;]),\n",
       "                                                 (&#x27;cat&#x27;,\n",
       "                                                  Pipeline(steps=[(&#x27;encoder&#x27;,\n",
       "                                                                   OneHotEncoder(handle_unknown=&#x27;ignore&#x27;))]),\n",
       "                                                  [&#x27;Occupation&#x27;])])),\n",
       "                (&#x27;regressor&#x27;, RandomForestRegressor(random_state=42))])</pre></div></div></div><div class=\"sk-serial\"><div class=\"sk-item sk-dashed-wrapped\"><div class=\"sk-label-container\"><div class=\"sk-label sk-toggleable\"><input class=\"sk-toggleable__control sk-hidden--visually\" id=\"sk-estimator-id-2\" type=\"checkbox\" ><label for=\"sk-estimator-id-2\" class=\"sk-toggleable__label sk-toggleable__label-arrow\">preprocessing: ColumnTransformer</label><div class=\"sk-toggleable__content\"><pre>ColumnTransformer(transformers=[(&#x27;num&#x27;,\n",
       "                                 Pipeline(steps=[(&#x27;imputer&#x27;,\n",
       "                                                  SimpleImputer(strategy=&#x27;median&#x27;))]),\n",
       "                                 [&#x27;Age&#x27;, &#x27;Assets&#x27;, &#x27;Investments&#x27;, &#x27;Savings&#x27;,\n",
       "                                  &#x27;Debt&#x27;, &#x27;Gross monthly income&#x27;,\n",
       "                                  &#x27;Net monthly income&#x27;, &#x27;Rent/Mortgage&#x27;,\n",
       "                                  &#x27;Utilities&#x27;, &#x27;Emergency Fund&#x27;, &#x27;Dining out&#x27;,\n",
       "                                  &#x27;Groceries&#x27;, &#x27;Miscellaneous&#x27;, &#x27;% Expenses&#x27;,\n",
       "                                  &#x27;% Savings&#x27;]),\n",
       "                                (&#x27;cat&#x27;,\n",
       "                                 Pipeline(steps=[(&#x27;encoder&#x27;,\n",
       "                                                  OneHotEncoder(handle_unknown=&#x27;ignore&#x27;))]),\n",
       "                                 [&#x27;Occupation&#x27;])])</pre></div></div></div><div class=\"sk-parallel\"><div class=\"sk-parallel-item\"><div class=\"sk-item\"><div class=\"sk-label-container\"><div class=\"sk-label sk-toggleable\"><input class=\"sk-toggleable__control sk-hidden--visually\" id=\"sk-estimator-id-3\" type=\"checkbox\" ><label for=\"sk-estimator-id-3\" class=\"sk-toggleable__label sk-toggleable__label-arrow\">num</label><div class=\"sk-toggleable__content\"><pre>[&#x27;Age&#x27;, &#x27;Assets&#x27;, &#x27;Investments&#x27;, &#x27;Savings&#x27;, &#x27;Debt&#x27;, &#x27;Gross monthly income&#x27;, &#x27;Net monthly income&#x27;, &#x27;Rent/Mortgage&#x27;, &#x27;Utilities&#x27;, &#x27;Emergency Fund&#x27;, &#x27;Dining out&#x27;, &#x27;Groceries&#x27;, &#x27;Miscellaneous&#x27;, &#x27;% Expenses&#x27;, &#x27;% Savings&#x27;]</pre></div></div></div><div class=\"sk-serial\"><div class=\"sk-item\"><div class=\"sk-serial\"><div class=\"sk-item\"><div class=\"sk-estimator sk-toggleable\"><input class=\"sk-toggleable__control sk-hidden--visually\" id=\"sk-estimator-id-4\" type=\"checkbox\" ><label for=\"sk-estimator-id-4\" class=\"sk-toggleable__label sk-toggleable__label-arrow\">SimpleImputer</label><div class=\"sk-toggleable__content\"><pre>SimpleImputer(strategy=&#x27;median&#x27;)</pre></div></div></div></div></div></div></div></div><div class=\"sk-parallel-item\"><div class=\"sk-item\"><div class=\"sk-label-container\"><div class=\"sk-label sk-toggleable\"><input class=\"sk-toggleable__control sk-hidden--visually\" id=\"sk-estimator-id-5\" type=\"checkbox\" ><label for=\"sk-estimator-id-5\" class=\"sk-toggleable__label sk-toggleable__label-arrow\">cat</label><div class=\"sk-toggleable__content\"><pre>[&#x27;Occupation&#x27;]</pre></div></div></div><div class=\"sk-serial\"><div class=\"sk-item\"><div class=\"sk-serial\"><div class=\"sk-item\"><div class=\"sk-estimator sk-toggleable\"><input class=\"sk-toggleable__control sk-hidden--visually\" id=\"sk-estimator-id-6\" type=\"checkbox\" ><label for=\"sk-estimator-id-6\" class=\"sk-toggleable__label sk-toggleable__label-arrow\">OneHotEncoder</label><div class=\"sk-toggleable__content\"><pre>OneHotEncoder(handle_unknown=&#x27;ignore&#x27;)</pre></div></div></div></div></div></div></div></div></div></div><div class=\"sk-item\"><div class=\"sk-estimator sk-toggleable\"><input class=\"sk-toggleable__control sk-hidden--visually\" id=\"sk-estimator-id-7\" type=\"checkbox\" ><label for=\"sk-estimator-id-7\" class=\"sk-toggleable__label sk-toggleable__label-arrow\">RandomForestRegressor</label><div class=\"sk-toggleable__content\"><pre>RandomForestRegressor(random_state=42)</pre></div></div></div></div></div></div></div>"
      ],
      "text/plain": [
       "Pipeline(steps=[('preprocessing',\n",
       "                 ColumnTransformer(transformers=[('num',\n",
       "                                                  Pipeline(steps=[('imputer',\n",
       "                                                                   SimpleImputer(strategy='median'))]),\n",
       "                                                  ['Age', 'Assets',\n",
       "                                                   'Investments', 'Savings',\n",
       "                                                   'Debt',\n",
       "                                                   'Gross monthly income',\n",
       "                                                   'Net monthly income',\n",
       "                                                   'Rent/Mortgage', 'Utilities',\n",
       "                                                   'Emergency Fund',\n",
       "                                                   'Dining out', 'Groceries',\n",
       "                                                   'Miscellaneous',\n",
       "                                                   '% Expenses', '% Savings']),\n",
       "                                                 ('cat',\n",
       "                                                  Pipeline(steps=[('encoder',\n",
       "                                                                   OneHotEncoder(handle_unknown='ignore'))]),\n",
       "                                                  ['Occupation'])])),\n",
       "                ('regressor', RandomForestRegressor(random_state=42))])"
      ]
     },
     "execution_count": 16,
     "metadata": {},
     "output_type": "execute_result"
    }
   ],
   "source": [
    "# Train\n",
    "model.fit(X_train, y_train)"
   ]
  },
  {
   "cell_type": "code",
   "execution_count": 17,
   "id": "c2b13a70",
   "metadata": {},
   "outputs": [],
   "source": [
    "\n",
    "# Predict\n",
    "y_pred = model.predict(X_test)"
   ]
  },
  {
   "cell_type": "code",
   "execution_count": 18,
   "id": "b90ed534",
   "metadata": {},
   "outputs": [
    {
     "name": "stdout",
     "output_type": "stream",
     "text": [
      "MAE: 1894.197307692308\n",
      "R² Score: 0.1413933364062846\n"
     ]
    }
   ],
   "source": [
    "# Evaluate\n",
    "print(\"MAE:\", mean_absolute_error(y_test, y_pred))\n",
    "print(\"R² Score:\", r2_score(y_test, y_pred))"
   ]
  },
  {
   "cell_type": "code",
   "execution_count": 19,
   "id": "c4cc992d",
   "metadata": {},
   "outputs": [
    {
     "name": "stdout",
     "output_type": "stream",
     "text": [
      "🔍 Input Data:\n"
     ]
    },
    {
     "data": {
      "text/html": [
       "<div>\n",
       "<style scoped>\n",
       "    .dataframe tbody tr th:only-of-type {\n",
       "        vertical-align: middle;\n",
       "    }\n",
       "\n",
       "    .dataframe tbody tr th {\n",
       "        vertical-align: top;\n",
       "    }\n",
       "\n",
       "    .dataframe thead th {\n",
       "        text-align: right;\n",
       "    }\n",
       "</style>\n",
       "<table border=\"1\" class=\"dataframe\">\n",
       "  <thead>\n",
       "    <tr style=\"text-align: right;\">\n",
       "      <th></th>\n",
       "      <th>Age</th>\n",
       "      <th>Occupation</th>\n",
       "      <th>Assets</th>\n",
       "      <th>Investments</th>\n",
       "      <th>Savings</th>\n",
       "      <th>Debt</th>\n",
       "      <th>Gross monthly income</th>\n",
       "      <th>Net monthly income</th>\n",
       "      <th>Rent/Mortgage</th>\n",
       "      <th>Utilities</th>\n",
       "      <th>Emergency Fund</th>\n",
       "      <th>Dining out</th>\n",
       "      <th>Groceries</th>\n",
       "      <th>Miscellaneous</th>\n",
       "      <th>% Expenses</th>\n",
       "      <th>% Savings</th>\n",
       "    </tr>\n",
       "  </thead>\n",
       "  <tbody>\n",
       "    <tr>\n",
       "      <th>55</th>\n",
       "      <td>45</td>\n",
       "      <td>Homemaker</td>\n",
       "      <td>1883873.0</td>\n",
       "      <td>310957.0</td>\n",
       "      <td>40945.0</td>\n",
       "      <td>38262.0</td>\n",
       "      <td>955.0</td>\n",
       "      <td>51063.0</td>\n",
       "      <td>4302.0</td>\n",
       "      <td>232.0</td>\n",
       "      <td>3592.0</td>\n",
       "      <td>4536.0</td>\n",
       "      <td>4555.0</td>\n",
       "      <td>2218.0</td>\n",
       "      <td>7241.256545</td>\n",
       "      <td>37224.502618</td>\n",
       "    </tr>\n",
       "  </tbody>\n",
       "</table>\n",
       "</div>"
      ],
      "text/plain": [
       "    Age Occupation     Assets  Investments  Savings     Debt  \\\n",
       "55   45  Homemaker  1883873.0     310957.0  40945.0  38262.0   \n",
       "\n",
       "    Gross monthly income  Net monthly income  Rent/Mortgage  Utilities  \\\n",
       "55                 955.0             51063.0         4302.0      232.0   \n",
       "\n",
       "    Emergency Fund  Dining out  Groceries  Miscellaneous   % Expenses  \\\n",
       "55          3592.0      4536.0     4555.0         2218.0  7241.256545   \n",
       "\n",
       "       % Savings  \n",
       "55  37224.502618  "
      ]
     },
     "metadata": {},
     "output_type": "display_data"
    },
    {
     "name": "stdout",
     "output_type": "stream",
     "text": [
      "✅ Actual Total Insurance: ₹5511.00\n",
      "🤖 Predicted Total Insurance: ₹3687.84\n"
     ]
    }
   ],
   "source": [
    "# Select a test sample\n",
    "sample_input = X_test.iloc[[0]]              # Pick the first row from test set\n",
    "sample_actual = y_test.iloc[0]               # Actual insurance value for comparison\n",
    "\n",
    "# Predict using the trained model\n",
    "sample_prediction = model.predict(sample_input)[0]\n",
    "\n",
    "# Display results\n",
    "print(\"🔍 Input Data:\")\n",
    "display(sample_input)\n",
    "\n",
    "print(f\"✅ Actual Total Insurance: ₹{sample_actual:.2f}\")\n",
    "print(f\"🤖 Predicted Total Insurance: ₹{sample_prediction:.2f}\")\n"
   ]
  },
  {
   "cell_type": "code",
   "execution_count": 20,
   "id": "6951fa35",
   "metadata": {},
   "outputs": [],
   "source": [
    "with open('model.pkl', 'wb') as f:\n",
    "    pickle.dump(model, f)"
   ]
  }
 ],
 "metadata": {
  "kernelspec": {
   "display_name": "Python 3",
   "language": "python",
   "name": "python3"
  },
  "language_info": {
   "codemirror_mode": {
    "name": "ipython",
    "version": 3
   },
   "file_extension": ".py",
   "mimetype": "text/x-python",
   "name": "python",
   "nbconvert_exporter": "python",
   "pygments_lexer": "ipython3",
   "version": "3.12.1"
  }
 },
 "nbformat": 4,
 "nbformat_minor": 5
}
